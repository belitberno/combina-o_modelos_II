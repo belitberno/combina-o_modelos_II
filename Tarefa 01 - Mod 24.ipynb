{
 "cells": [
  {
   "cell_type": "markdown",
   "id": "666ba698",
   "metadata": {},
   "source": [
    "# Tarefa 01 - Módulo 24 -  Combinação de modelos II"
   ]
  },
  {
   "cell_type": "markdown",
   "id": "f9ba9f7f",
   "metadata": {},
   "source": [
    "1. Cite 5 diferenças entre o RandomForest e o AdaBoost"
   ]
  },
  {
   "cell_type": "markdown",
   "id": "603ae9a4",
   "metadata": {},
   "source": [
    "- A primeira diferença é que o RF cria uma floresta de árvores, distribuídos de diversas formas, e o AdaBoost possui florestas de Stumps, ou seja, árvores com 1 de profundidade e duas folhas.\n",
    "\n",
    "- As árvores no RF são independentes e no AdaBoost cada árvore influencia na próxima.\n",
    "\n",
    "- Enquanto o RF dá o mesmo 'peso' para cada uma das predições, já o AdaBoost avalia o quão preciso cada uma foi e determina quais respostas tem maior importância.\n",
    "\n",
    "- Cada stump/árvore do AdaBoost trabalhará com apenas uma coluna da base de dados, quanto o RF pode trabalhar com várias.\n",
    "\n",
    "- Cada dataset feito no AdaBoost deriva do anterior, por exemplo: O primeiro bootstrap deriva da base de dados original, o segundo deriva do primeiro e assim em diante. Já no RF, todos são derivados da base original."
   ]
  },
  {
   "cell_type": "markdown",
   "id": "018e36ec",
   "metadata": {},
   "source": [
    "2. Acesse o link Scikit-learn–adaboost, leia a explicação (traduza se for preciso) e crie um jupyternotebook contendo o exemplo do AdaBoost."
   ]
  },
  {
   "cell_type": "code",
   "execution_count": 1,
   "id": "d3fb01b3",
   "metadata": {},
   "outputs": [
    {
     "data": {
      "text/plain": [
       "0.9466666666666665"
      ]
     },
     "execution_count": 1,
     "metadata": {},
     "output_type": "execute_result"
    }
   ],
   "source": [
    "from sklearn.model_selection import cross_val_score\n",
    "from sklearn.datasets import load_iris\n",
    "from sklearn.ensemble import AdaBoostClassifier\n",
    "\n",
    "X, y = load_iris(return_X_y=True)\n",
    "clf = AdaBoostClassifier(n_estimators=100)\n",
    "scores = cross_val_score(clf, X, y, cv=5)\n",
    "scores.mean()"
   ]
  },
  {
   "cell_type": "markdown",
   "id": "6f1ea8c9",
   "metadata": {},
   "source": [
    "3. Cite 5 Hyperparametrosimportantes no AdaBoost."
   ]
  },
  {
   "cell_type": "markdown",
   "id": "99817470",
   "metadata": {},
   "source": [
    "- estimator: Estimardor base que vai ser utilizado para construir o conjunto impussionado.\n",
    "- n_estimators: O máximo de estimadores que o modelo pode alcançar.\n",
    "- learning_rate: Peso aplicado a cada classificador em cada iteração.\n",
    "- max_depth: profundidadade do modelo.\n",
    "- min_samples_split: número mínimo de amostras para cada divisão."
   ]
  }
 ],
 "metadata": {
  "kernelspec": {
   "display_name": "Python 3 (ipykernel)",
   "language": "python",
   "name": "python3"
  },
  "language_info": {
   "codemirror_mode": {
    "name": "ipython",
    "version": 3
   },
   "file_extension": ".py",
   "mimetype": "text/x-python",
   "name": "python",
   "nbconvert_exporter": "python",
   "pygments_lexer": "ipython3",
   "version": "3.11.5"
  }
 },
 "nbformat": 4,
 "nbformat_minor": 5
}
