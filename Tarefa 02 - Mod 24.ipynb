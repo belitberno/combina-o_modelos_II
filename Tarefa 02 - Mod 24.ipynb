{
 "cells": [
  {
   "cell_type": "markdown",
   "id": "666ba698",
   "metadata": {},
   "source": [
    "# Tarefa 01 - Módulo 24 -  Combinação de modelos II"
   ]
  },
  {
   "cell_type": "markdown",
   "id": "f9ba9f7f",
   "metadata": {},
   "source": [
    "1. Cite 5 diferenças entre o AdaBooste o GBM."
   ]
  },
  {
   "cell_type": "markdown",
   "id": "603ae9a4",
   "metadata": {},
   "source": [
    "- O GBM trabalha com uma floresta de árvores, já o AdaBoost trabalha com uma floresta de stumps;\n",
    "- O primeiro passo no GBM é a média do y (target) e no outro é um stump;\n",
    "- O GBM dá o mesmo peso para todas as respostas das árvores;\n",
    "- Com o GBM, todas as predições possuem um multiplicador em comum (ETA) que irá influenciar na resposta final;\n",
    "- Enquanto o AdaBoost busca predizer o valor de y, as árvores do GBM irão buscar prever da melhor forma os resíduos de y."
   ]
  },
  {
   "cell_type": "markdown",
   "id": "018e36ec",
   "metadata": {},
   "source": [
    "2. Acesse o link Scikit-learn–GBM, leia a explicação (traduza se for preciso) e crie um jupyternotebook contendo o exemplo de classificação e de regressão do GBM."
   ]
  },
  {
   "cell_type": "code",
   "execution_count": 1,
   "id": "d3fb01b3",
   "metadata": {},
   "outputs": [
    {
     "data": {
      "text/plain": [
       "0.913"
      ]
     },
     "execution_count": 1,
     "metadata": {},
     "output_type": "execute_result"
    }
   ],
   "source": [
    "#Classificação\n",
    ">>> from sklearn.datasets import make_hastie_10_2\n",
    ">>> from sklearn.ensemble import GradientBoostingClassifier\n",
    "\n",
    ">>> X, y = make_hastie_10_2(random_state=0)\n",
    ">>> X_train, X_test = X[:2000], X[2000:]\n",
    ">>> y_train, y_test = y[:2000], y[2000:]\n",
    "\n",
    ">>> clf = GradientBoostingClassifier(n_estimators=100, learning_rate=1.0,\n",
    "...     max_depth=1, random_state=0).fit(X_train, y_train)\n",
    ">>> clf.score(X_test, y_test)"
   ]
  },
  {
   "cell_type": "code",
   "execution_count": 2,
   "id": "df4e1f4d",
   "metadata": {},
   "outputs": [
    {
     "data": {
      "text/plain": [
       "5.009154859960321"
      ]
     },
     "execution_count": 2,
     "metadata": {},
     "output_type": "execute_result"
    }
   ],
   "source": [
    "#Regressão\n",
    ">>> import numpy as np\n",
    ">>> from sklearn.metrics import mean_squared_error\n",
    ">>> from sklearn.datasets import make_friedman1\n",
    ">>> from sklearn.ensemble import GradientBoostingRegressor\n",
    "\n",
    ">>> X, y = make_friedman1(n_samples=1200, random_state=0, noise=1.0)\n",
    ">>> X_train, X_test = X[:200], X[200:]\n",
    ">>> y_train, y_test = y[:200], y[200:]\n",
    ">>> est = GradientBoostingRegressor(\n",
    "...     n_estimators=100, learning_rate=0.1, max_depth=1, random_state=0,\n",
    "...     loss='squared_error'\n",
    "... ).fit(X_train, y_train)\n",
    ">>> mean_squared_error(y_test, est.predict(X_test))"
   ]
  },
  {
   "cell_type": "markdown",
   "id": "6f1ea8c9",
   "metadata": {},
   "source": [
    "3. Cite 5 Hyperparametrosimportantes no GBM."
   ]
  },
  {
   "cell_type": "markdown",
   "id": "99817470",
   "metadata": {},
   "source": [
    "- max_depth: Profundidade máxima dos estimadores de regressão.\n",
    "- random_state: Controla a semente aleatória dada a cada estimador da árvore em cada aumento de iteração.\n",
    "- ccp_alpha: Parâmetro de complexidade usado para a poda mínima de custo-complexidade.\n",
    "- verbose: Fonece detalhes do progresso dos cálculos.\n",
    "- criterion: Mede a qualidade de uma divisão."
   ]
  },
  {
   "cell_type": "markdown",
   "id": "cf57d590",
   "metadata": {},
   "source": [
    "4. Acessando o artigo do Jerome Friedman (Stochastic) e pensando no nome dado ao StochasticGBM, qual é a maior diferença entre os dois algoritmos?"
   ]
  },
  {
   "cell_type": "markdown",
   "id": "c45cdb9d",
   "metadata": {},
   "source": [
    "O Stochastic GBM faz um subsample dos dados de treino de forma aleatória e sem reposição, ou seja, ao contrário do Bootstrap, ele foca em diminuir o número de linhas, assim melhora a robustez do Base Learner e a velocidade de treino."
   ]
  },
  {
   "cell_type": "code",
   "execution_count": null,
   "id": "d08ce663",
   "metadata": {},
   "outputs": [],
   "source": []
  }
 ],
 "metadata": {
  "kernelspec": {
   "display_name": "Python 3 (ipykernel)",
   "language": "python",
   "name": "python3"
  },
  "language_info": {
   "codemirror_mode": {
    "name": "ipython",
    "version": 3
   },
   "file_extension": ".py",
   "mimetype": "text/x-python",
   "name": "python",
   "nbconvert_exporter": "python",
   "pygments_lexer": "ipython3",
   "version": "3.11.5"
  }
 },
 "nbformat": 4,
 "nbformat_minor": 5
}
